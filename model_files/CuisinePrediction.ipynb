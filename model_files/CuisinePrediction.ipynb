{
 "cells": [
  {
   "cell_type": "markdown",
   "metadata": {
    "id": "jF-oZ7COh319"
   },
   "source": [
    "# Predict Cuisine from Ingredients"
   ]
  },
  {
   "cell_type": "code",
   "execution_count": 1,
   "metadata": {
    "colab": {
     "base_uri": "https://localhost:8080/",
     "height": 565
    },
    "id": "iVqGnaNtxHN9",
    "outputId": "c1b017ce-8e35-40c7-ed07-4d98bf95e53f"
   },
   "outputs": [],
   "source": [
    "import csv\n",
    "import pandas as pd\n",
    "\n",
    "# importing the dataset\n",
    "dataset = pd.read_json('../dataset/train.json')\n",
    "y = dataset.cuisine\n",
    "\n",
    "# creating an ingredients_list of all ingredients in the dataset\n",
    "ingredients_list= []\n",
    "for ingredient in dataset.ingredients:\n",
    "  for i in ingredient:\n",
    "    if (i not in ingredients_list):\n",
    "      ingredients_list.append(i)\n",
    "\n",
    "# creating a dataframe from the dataset for each recipe \n",
    "# where the columns are binary values indicating presence of an ingredient\n",
    "X = pd.DataFrame(columns=ingredients_list, index = range(0,len(y)))\n",
    "for col in X.columns:\n",
    "    X[col].values[:] = 0\n",
    "for row in range(0, len(dataset.ingredients)):\n",
    "  for i in dataset.ingredients[row]:\n",
    "    X.at[row,i] = 1"
   ]
  },
  {
   "cell_type": "code",
   "execution_count": 2,
   "metadata": {
    "id": "C25T2Dui6gB8"
   },
   "outputs": [],
   "source": [
    "from sklearn.model_selection import train_test_split\n",
    "\n",
    "# splitting the dataset into training set and test set\n",
    "X_train, X_test, y_train, y_test = train_test_split(X, y, test_size = 0.25, random_state = 0)"
   ]
  },
  {
   "cell_type": "markdown",
   "metadata": {},
   "source": [
    "## Comparing the Classifiers"
   ]
  },
  {
   "cell_type": "markdown",
   "metadata": {
    "id": "zjzbHOIW-2C5"
   },
   "source": [
    "### CatBoostClassifier"
   ]
  },
  {
   "cell_type": "code",
   "execution_count": 3,
   "metadata": {
    "colab": {
     "base_uri": "https://localhost:8080/"
    },
    "id": "PrA4Ylnk-smH",
    "outputId": "3e1c0d44-9593-4c5d-8702-00f273d7bef2"
   },
   "outputs": [],
   "source": [
    "from catboost import CatBoostClassifier\n",
    "from sklearn.metrics import accuracy_score\n",
    "\n",
    "# initializing the CatBoostClassifier\n",
    "classifier = CatBoostClassifier(silent = True, max_depth= 7, n_estimators=300)\n",
    "\n",
    "# training the CatBoostClassifier on the training set\n",
    "classifier.fit(X_train, y_train)\n",
    "\n",
    "# making predictions on the test_set\n",
    "y_pred = classifier.predict(X_test)\n",
    "catboost_accuracy = accuracy_score(y_test, y_pred)*100"
   ]
  },
  {
   "cell_type": "markdown",
   "metadata": {},
   "source": [
    "### Linear SVC"
   ]
  },
  {
   "cell_type": "code",
   "execution_count": 4,
   "metadata": {},
   "outputs": [],
   "source": [
    "from sklearn import svm\n",
    "\n",
    "# initializing the LinearSVC\n",
    "lin_svc_classifier = svm.LinearSVC()\n",
    "\n",
    "# training the CatBoostClassifier on the training set\n",
    "lin_svc_classifier.fit(X_train, y_train)\n",
    "\n",
    "# making predictions on the test_set\n",
    "y_pred=lin_svc_classifier.predict(X_test)\n",
    "lin_svc_classifier_accuracy = accuracy_score(y_test,y_pred)*100"
   ]
  },
  {
   "cell_type": "markdown",
   "metadata": {},
   "source": [
    "### Decision Tree Classifier"
   ]
  },
  {
   "cell_type": "code",
   "execution_count": 5,
   "metadata": {},
   "outputs": [],
   "source": [
    "from sklearn.tree import DecisionTreeClassifier\n",
    "\n",
    "tree_classifier = DecisionTreeClassifier()\n",
    "tree_classifier.fit(X_train, y_train)\n",
    "y_pred = tree_classifier.predict(X_test)\n",
    "tree_classifier_accuracy = accuracy_score(y_test,y_pred)*100"
   ]
  },
  {
   "cell_type": "markdown",
   "metadata": {},
   "source": [
    "### Comparison "
   ]
  },
  {
   "cell_type": "code",
   "execution_count": 6,
   "metadata": {},
   "outputs": [
    {
     "name": "stdout",
     "output_type": "stream",
     "text": [
      "CatBoost Classifier Accuracy: 72.49597747385359\n",
      "SVC Classifer Accuracy: 77.11182622687048\n",
      "Decision Tree Classifier Accuracy: 61.48431214802896\n"
     ]
    }
   ],
   "source": [
    "print(\"CatBoost Classifier Accuracy:\", catboost_accuracy)\n",
    "print(\"SVC Classifer Accuracy:\", lin_svc_classifier_accuracy)\n",
    "print(\"Decision Tree Classifier Accuracy:\", tree_classifier_accuracy)"
   ]
  },
  {
   "cell_type": "markdown",
   "metadata": {},
   "source": [
    "As is evident, Linear SVC Classifer has a better accuracy than the other models."
   ]
  },
  {
   "cell_type": "markdown",
   "metadata": {
    "id": "WR1XwR2xBs2e"
   },
   "source": [
    "# Predicting the Cuisine from Recipe"
   ]
  },
  {
   "cell_type": "code",
   "execution_count": 7,
   "metadata": {
    "id": "zUVXF1LcRrra"
   },
   "outputs": [],
   "source": [
    "# recipe for parsena\n",
    "parsena=\"3 boneless skinless chicken breasts (about 1 ¼ lbs), cut in half lengthwise, Kosher salt, Freshly ground black pepper, 1/2 all purpose flour, 2 large eggs, 1/2 tbsp. garlic powder, 1/4 c. canola or peanut Oil, for frying, 5 tbsp. unsalted butter, cut in tablespoons, 1/2 c. dry white wine, 1/2 c. low-sodium chicken stock, 1/2 lemon, zest and juice, 1/2 lemon, sliced, Chopped fresh parsley, for serving\""
   ]
  },
  {
   "cell_type": "code",
   "execution_count": 8,
   "metadata": {},
   "outputs": [],
   "source": [
    "# function for transforming the input recipe \n",
    "# returns a dataframe where the columns are binary values indicating presence of an ingredient\n",
    "def transform_input(x):\n",
    "    test = pd.DataFrame(columns=ingredients_list, index = [0])    \n",
    "    for col in test.columns:\n",
    "        test[col].values[:] = 0\n",
    "        if (col in x):\n",
    "            test[col].values[:] = 1            \n",
    "    return test"
   ]
  },
  {
   "cell_type": "code",
   "execution_count": 9,
   "metadata": {},
   "outputs": [],
   "source": [
    "# function for predicting the cuisine from input 'x' using the classifier 'model' \n",
    "# returns a cuisine category\n",
    "def predict_cuisine(x, model):\n",
    "    test = transform_input(x)\n",
    "    y_pred = model.predict(test)[0]\n",
    "    return y_pred"
   ]
  },
  {
   "cell_type": "code",
   "execution_count": 10,
   "metadata": {},
   "outputs": [
    {
     "data": {
      "text/plain": [
       "'italian'"
      ]
     },
     "execution_count": 10,
     "metadata": {},
     "output_type": "execute_result"
    }
   ],
   "source": [
    "# using the classifier_pipeline for predicting the cuisine\n",
    "predict_cuisine(parsena, lin_svc_classifier)"
   ]
  }
 ],
 "metadata": {
  "accelerator": "GPU",
  "colab": {
   "collapsed_sections": [],
   "name": "RecipeClustering.ipynb",
   "provenance": []
  },
  "kernelspec": {
   "display_name": "Python 3",
   "language": "python",
   "name": "python3"
  },
  "language_info": {
   "codemirror_mode": {
    "name": "ipython",
    "version": 3
   },
   "file_extension": ".py",
   "mimetype": "text/x-python",
   "name": "python",
   "nbconvert_exporter": "python",
   "pygments_lexer": "ipython3",
   "version": "3.8.8"
  }
 },
 "nbformat": 4,
 "nbformat_minor": 1
}
